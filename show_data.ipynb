{
 "cells": [
  {
   "cell_type": "code",
   "execution_count": 1,
   "metadata": {},
   "outputs": [],
   "source": [
    "import nibabel as nib\n",
    "from pathlib import Path\n",
    "import numpy as np\n",
    "import json"
   ]
  },
  {
   "cell_type": "code",
   "execution_count": null,
   "metadata": {},
   "outputs": [],
   "source": [
    "import torch\n",
    "\n",
    "a = torch.ones((3,3,211,211))\n",
    "b =  torch.ones((211, 211))\n",
    "a  * b"
   ]
  },
  {
   "cell_type": "code",
   "execution_count": 4,
   "metadata": {},
   "outputs": [],
   "source": [
    "cases = []\n",
    "for i in Path(\"/homes/syli/dataset/MultiCoil/test/fullsample\").iterdir():\n",
    "    cases.append({\"reconstruction_rss\": str(i), \"kspace_masked_ifft\": \"/homes/syli/dataset/MultiCoil/test/undersample/\" + i.name})\n",
    "\n",
    "d = {\"train\": cases[:144], \"validation\": cases[144:]}\n",
    "with open(\"/homes/syli/dataset/MultiCoil/test/test.json\", \"w\") as f:\n",
    "    json.dump(d, f)\n",
    "    "
   ]
  },
  {
   "cell_type": "code",
   "execution_count": 4,
   "metadata": {},
   "outputs": [
    {
     "data": {
      "text/plain": [
       "torch.Size([246, 512])"
      ]
     },
     "execution_count": 4,
     "metadata": {},
     "output_type": "execute_result"
    }
   ],
   "source": [
    "c[\"kspace_masked_ifft\"].shape"
   ]
  },
  {
   "cell_type": "code",
   "execution_count": 9,
   "metadata": {},
   "outputs": [],
   "source": [
    "number = 0\n",
    "one_img = []\n",
    "for case in Path(\"/homes/syli/dataset/MultiCoil/test/kspace_full\").iterdir():\n",
    "    img_arr = nib.load(str(case)).get_fdata()\n",
    "    one_img.append(img_arr)\n",
    "    if number % 4 == 3:\n",
    "        one_img_arr = np.array(one_img)\n",
    "        img = nib.Nifti1Image(one_img_arr, affine=np.eye(4))\n",
    "        nib.save(img, f\"/homes/syli/dataset/MultiCoil/test/test_3d/{(number+1) // 4}.nii.gz\")\n",
    "        one_img = []\n",
    "    number += 1\n",
    "\n"
   ]
  },
  {
   "cell_type": "code",
   "execution_count": null,
   "metadata": {},
   "outputs": [],
   "source": []
  }
 ],
 "metadata": {
  "kernelspec": {
   "display_name": "medsam",
   "language": "python",
   "name": "python3"
  },
  "language_info": {
   "codemirror_mode": {
    "name": "ipython",
    "version": 3
   },
   "file_extension": ".py",
   "mimetype": "text/x-python",
   "name": "python",
   "nbconvert_exporter": "python",
   "pygments_lexer": "ipython3",
   "version": "3.11.5"
  }
 },
 "nbformat": 4,
 "nbformat_minor": 2
}
