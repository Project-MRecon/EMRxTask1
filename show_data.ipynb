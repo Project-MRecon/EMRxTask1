{
 "cells": [
  {
   "cell_type": "code",
   "execution_count": 1,
   "metadata": {},
   "outputs": [],
   "source": [
    "import nibabel as nib\n",
    "from pathlib import Path\n",
    "import numpy as np\n",
    "import json"
   ]
  },
  {
   "cell_type": "code",
   "execution_count": 4,
   "metadata": {},
   "outputs": [],
   "source": [
    "cases = []\n",
    "for i in Path(\"/homes/syli/dataset/MultiCoil/test/fullsample\").iterdir():\n",
    "    cases.append({\"reconstruction_rss\": str(i), \"kspace_masked_ifft\": \"/homes/syli/dataset/MultiCoil/test/undersample/\" + i.name})\n",
    "\n",
    "d = {\"train\": cases[:144], \"validation\": cases[144:]}\n",
    "with open(\"/homes/syli/dataset/MultiCoil/test/test.json\", \"w\") as f:\n",
    "    json.dump(d, f)\n",
    "    "
   ]
  },
  {
   "cell_type": "code",
   "execution_count": 2,
   "metadata": {},
   "outputs": [
    {
     "name": "stderr",
     "output_type": "stream",
     "text": [
      "2024-05-28 13:52:53.747532: E tensorflow/compiler/xla/stream_executor/cuda/cuda_dnn.cc:9342] Unable to register cuDNN factory: Attempting to register factory for plugin cuDNN when one has already been registered\n",
      "2024-05-28 13:52:53.747596: E tensorflow/compiler/xla/stream_executor/cuda/cuda_fft.cc:609] Unable to register cuFFT factory: Attempting to register factory for plugin cuFFT when one has already been registered\n",
      "2024-05-28 13:52:53.747655: E tensorflow/compiler/xla/stream_executor/cuda/cuda_blas.cc:1518] Unable to register cuBLAS factory: Attempting to register factory for plugin cuBLAS when one has already been registered\n",
      "2024-05-28 13:52:53.761663: I tensorflow/core/platform/cpu_feature_guard.cc:182] This TensorFlow binary is optimized to use available CPU instructions in performance-critical operations.\n",
      "To enable the following instructions: AVX2 AVX512F FMA, in other operations, rebuild TensorFlow with the appropriate compiler flags.\n",
      "2024-05-28 13:52:55.939598: W tensorflow/compiler/tf2tensorrt/utils/py_utils.cc:38] TF-TRT Warning: Could not find TensorRT\n"
     ]
    },
    {
     "name": "stdout",
     "output_type": "stream",
     "text": [
      "['reconstruction_rss', 'kspace_masked_ifft', 'kspace_masked_ifft_copy', 'reconstruction_rss_copy']\n"
     ]
    }
   ],
   "source": [
    "from monai.transforms import LoadImaged, CenterSpatialCropd, EnsureChannelFirstd, Compose\n",
    "from utils.Transform import BackUp\n",
    "train_transform = Compose([\n",
    "        LoadImaged(keys=[\"kspace_masked_ifft\", \"reconstruction_rss\"], image_only=True),\n",
    "        EnsureChannelFirstd(keys=[\"kspace_masked_ifft\", \"reconstruction_rss\"]),\n",
    "        BackUp(keys=[\"kspace_masked_ifft\", \"reconstruction_rss\"]),\n",
    "        #ReferenceBasedSpatialCropd(keys=[\"kspace_masked_ifft\"], ref_key=\"reconstruction_rss\"), 大小本来就一致，没必要裁剪\n",
    "        CenterSpatialCropd(keys=[\"kspace_masked_ifft\", \"reconstruction_rss\"], roi_size=[162, 512]),])\n",
    "\n",
    "with open(\"/homes/syli/dataset/MultiCoil/test/test.json\") as f:\n",
    "    data = json.load(f)\n",
    "\n",
    "for i in d\n",
    "\n",
    "\n",
    "\n",
    "\n",
    "\n",
    "ata[\"validation\"]:\n",
    "    c = b(a(i))\n",
    "    print([i for i in c.keys()])\n",
    "    break"
   ]
  },
  {
   "cell_type": "code",
   "execution_count": 4,
   "metadata": {},
   "outputs": [
    {
     "data": {
      "text/plain": [
       "torch.Size([246, 512])"
      ]
     },
     "execution_count": 4,
     "metadata": {},
     "output_type": "execute_result"
    }
   ],
   "source": [
    "c[\"kspace_masked_ifft\"].shape"
   ]
  },
  {
   "cell_type": "code",
   "execution_count": 3,
   "metadata": {},
   "outputs": [
    {
     "ename": "ValueError",
     "evalue": "Sequence must have length 1, got 2.",
     "output_type": "error",
     "traceback": [
      "\u001b[0;31m---------------------------------------------------------------------------\u001b[0m",
      "\u001b[0;31mValueError\u001b[0m                                Traceback (most recent call last)",
      "Cell \u001b[0;32mIn[3], line 3\u001b[0m\n\u001b[1;32m      1\u001b[0m \u001b[38;5;28;01mfrom\u001b[39;00m \u001b[38;5;21;01mmonai\u001b[39;00m\u001b[38;5;21;01m.\u001b[39;00m\u001b[38;5;21;01mtransforms\u001b[39;00m \u001b[38;5;28;01mimport\u001b[39;00m CenterSpatialCropd\n\u001b[1;32m      2\u001b[0m d \u001b[38;5;241m=\u001b[39m CenterSpatialCropd(keys\u001b[38;5;241m=\u001b[39m[\u001b[38;5;124m\"\u001b[39m\u001b[38;5;124mkspace_masked_ifft\u001b[39m\u001b[38;5;124m\"\u001b[39m, \u001b[38;5;124m\"\u001b[39m\u001b[38;5;124mreconstruction_rss\u001b[39m\u001b[38;5;124m\"\u001b[39m], roi_size\u001b[38;5;241m=\u001b[39m[\u001b[38;5;241m162\u001b[39m, \u001b[38;5;241m512\u001b[39m])\n\u001b[0;32m----> 3\u001b[0m img \u001b[38;5;241m=\u001b[39m \u001b[43md\u001b[49m\u001b[43m(\u001b[49m\u001b[43mc\u001b[49m\u001b[43m)\u001b[49m[\u001b[38;5;124m\"\u001b[39m\u001b[38;5;124mkspace_masked_ifft\u001b[39m\u001b[38;5;124m\"\u001b[39m]\n\u001b[1;32m      4\u001b[0m img\u001b[38;5;241m.\u001b[39mshape\n",
      "File \u001b[0;32m~/anaconda3/envs/medsam/lib/python3.11/site-packages/monai/transforms/croppad/dictionary.py:364\u001b[0m, in \u001b[0;36mCropd.__call__\u001b[0;34m(self, data, lazy)\u001b[0m\n\u001b[1;32m    362\u001b[0m lazy_ \u001b[38;5;241m=\u001b[39m \u001b[38;5;28mself\u001b[39m\u001b[38;5;241m.\u001b[39mlazy \u001b[38;5;28;01mif\u001b[39;00m lazy \u001b[38;5;129;01mis\u001b[39;00m \u001b[38;5;28;01mNone\u001b[39;00m \u001b[38;5;28;01melse\u001b[39;00m lazy\n\u001b[1;32m    363\u001b[0m \u001b[38;5;28;01mfor\u001b[39;00m key \u001b[38;5;129;01min\u001b[39;00m \u001b[38;5;28mself\u001b[39m\u001b[38;5;241m.\u001b[39mkey_iterator(d):\n\u001b[0;32m--> 364\u001b[0m     d[key] \u001b[38;5;241m=\u001b[39m \u001b[38;5;28;43mself\u001b[39;49m\u001b[38;5;241;43m.\u001b[39;49m\u001b[43mcropper\u001b[49m\u001b[43m(\u001b[49m\u001b[43md\u001b[49m\u001b[43m[\u001b[49m\u001b[43mkey\u001b[49m\u001b[43m]\u001b[49m\u001b[43m,\u001b[49m\u001b[43m \u001b[49m\u001b[43mlazy\u001b[49m\u001b[38;5;241;43m=\u001b[39;49m\u001b[43mlazy_\u001b[49m\u001b[43m)\u001b[49m  \u001b[38;5;66;03m# type: ignore\u001b[39;00m\n\u001b[1;32m    365\u001b[0m \u001b[38;5;28;01mreturn\u001b[39;00m d\n",
      "File \u001b[0;32m~/anaconda3/envs/medsam/lib/python3.11/site-packages/monai/transforms/croppad/array.py:535\u001b[0m, in \u001b[0;36mCenterSpatialCrop.__call__\u001b[0;34m(self, img, lazy)\u001b[0m\n\u001b[1;32m    527\u001b[0m \u001b[38;5;250m\u001b[39m\u001b[38;5;124;03m\"\"\"\u001b[39;00m\n\u001b[1;32m    528\u001b[0m \u001b[38;5;124;03mApply the transform to `img`, assuming `img` is channel-first and\u001b[39;00m\n\u001b[1;32m    529\u001b[0m \u001b[38;5;124;03mslicing doesn't apply to the channel dim.\u001b[39;00m\n\u001b[1;32m    530\u001b[0m \n\u001b[1;32m    531\u001b[0m \u001b[38;5;124;03m\"\"\"\u001b[39;00m\n\u001b[1;32m    532\u001b[0m lazy_ \u001b[38;5;241m=\u001b[39m \u001b[38;5;28mself\u001b[39m\u001b[38;5;241m.\u001b[39mlazy \u001b[38;5;28;01mif\u001b[39;00m lazy \u001b[38;5;129;01mis\u001b[39;00m \u001b[38;5;28;01mNone\u001b[39;00m \u001b[38;5;28;01melse\u001b[39;00m lazy\n\u001b[1;32m    533\u001b[0m \u001b[38;5;28;01mreturn\u001b[39;00m \u001b[38;5;28msuper\u001b[39m()\u001b[38;5;241m.\u001b[39m\u001b[38;5;21m__call__\u001b[39m(\n\u001b[1;32m    534\u001b[0m     img\u001b[38;5;241m=\u001b[39mimg,\n\u001b[0;32m--> 535\u001b[0m     slices\u001b[38;5;241m=\u001b[39m\u001b[38;5;28;43mself\u001b[39;49m\u001b[38;5;241;43m.\u001b[39;49m\u001b[43mcompute_slices\u001b[49m\u001b[43m(\u001b[49m\u001b[43mimg\u001b[49m\u001b[38;5;241;43m.\u001b[39;49m\u001b[43mpeek_pending_shape\u001b[49m\u001b[43m(\u001b[49m\u001b[43m)\u001b[49m\u001b[43m \u001b[49m\u001b[38;5;28;43;01mif\u001b[39;49;00m\u001b[43m \u001b[49m\u001b[38;5;28;43misinstance\u001b[39;49m\u001b[43m(\u001b[49m\u001b[43mimg\u001b[49m\u001b[43m,\u001b[49m\u001b[43m \u001b[49m\u001b[43mMetaTensor\u001b[49m\u001b[43m)\u001b[49m\u001b[43m \u001b[49m\u001b[38;5;28;43;01melse\u001b[39;49;00m\u001b[43m \u001b[49m\u001b[43mimg\u001b[49m\u001b[38;5;241;43m.\u001b[39;49m\u001b[43mshape\u001b[49m\u001b[43m[\u001b[49m\u001b[38;5;241;43m1\u001b[39;49m\u001b[43m:\u001b[49m\u001b[43m]\u001b[49m\u001b[43m)\u001b[49m,\n\u001b[1;32m    536\u001b[0m     lazy\u001b[38;5;241m=\u001b[39mlazy_,\n\u001b[1;32m    537\u001b[0m )\n",
      "File \u001b[0;32m~/anaconda3/envs/medsam/lib/python3.11/site-packages/monai/transforms/croppad/array.py:522\u001b[0m, in \u001b[0;36mCenterSpatialCrop.compute_slices\u001b[0;34m(self, spatial_size)\u001b[0m\n\u001b[1;32m    521\u001b[0m \u001b[38;5;28;01mdef\u001b[39;00m \u001b[38;5;21mcompute_slices\u001b[39m(\u001b[38;5;28mself\u001b[39m, spatial_size: Sequence[\u001b[38;5;28mint\u001b[39m]) \u001b[38;5;241m-\u001b[39m\u001b[38;5;241m>\u001b[39m \u001b[38;5;28mtuple\u001b[39m[\u001b[38;5;28mslice\u001b[39m]:  \u001b[38;5;66;03m# type: ignore[override]\u001b[39;00m\n\u001b[0;32m--> 522\u001b[0m     roi_size \u001b[38;5;241m=\u001b[39m \u001b[43mfall_back_tuple\u001b[49m\u001b[43m(\u001b[49m\u001b[38;5;28;43mself\u001b[39;49m\u001b[38;5;241;43m.\u001b[39;49m\u001b[43mroi_size\u001b[49m\u001b[43m,\u001b[49m\u001b[43m \u001b[49m\u001b[43mspatial_size\u001b[49m\u001b[43m)\u001b[49m\n\u001b[1;32m    523\u001b[0m     roi_center \u001b[38;5;241m=\u001b[39m [i \u001b[38;5;241m/\u001b[39m\u001b[38;5;241m/\u001b[39m \u001b[38;5;241m2\u001b[39m \u001b[38;5;28;01mfor\u001b[39;00m i \u001b[38;5;129;01min\u001b[39;00m spatial_size]\n\u001b[1;32m    524\u001b[0m     \u001b[38;5;28;01mreturn\u001b[39;00m \u001b[38;5;28msuper\u001b[39m()\u001b[38;5;241m.\u001b[39mcompute_slices(roi_center\u001b[38;5;241m=\u001b[39mroi_center, roi_size\u001b[38;5;241m=\u001b[39mroi_size)\n",
      "File \u001b[0;32m~/anaconda3/envs/medsam/lib/python3.11/site-packages/monai/utils/misc.py:276\u001b[0m, in \u001b[0;36mfall_back_tuple\u001b[0;34m(user_provided, default, func)\u001b[0m\n\u001b[1;32m    239\u001b[0m \u001b[38;5;250m\u001b[39m\u001b[38;5;124;03m\"\"\"\u001b[39;00m\n\u001b[1;32m    240\u001b[0m \u001b[38;5;124;03mRefine `user_provided` according to the `default`, and returns as a validated tuple.\u001b[39;00m\n\u001b[1;32m    241\u001b[0m \n\u001b[0;32m   (...)\u001b[0m\n\u001b[1;32m    273\u001b[0m \n\u001b[1;32m    274\u001b[0m \u001b[38;5;124;03m\"\"\"\u001b[39;00m\n\u001b[1;32m    275\u001b[0m ndim \u001b[38;5;241m=\u001b[39m \u001b[38;5;28mlen\u001b[39m(default)\n\u001b[0;32m--> 276\u001b[0m user \u001b[38;5;241m=\u001b[39m \u001b[43mensure_tuple_rep\u001b[49m\u001b[43m(\u001b[49m\u001b[43muser_provided\u001b[49m\u001b[43m,\u001b[49m\u001b[43m \u001b[49m\u001b[43mndim\u001b[49m\u001b[43m)\u001b[49m\n\u001b[1;32m    277\u001b[0m \u001b[38;5;28;01mreturn\u001b[39;00m \u001b[38;5;28mtuple\u001b[39m(  \u001b[38;5;66;03m# use the default values if user provided is not valid\u001b[39;00m\n\u001b[1;32m    278\u001b[0m     user_c \u001b[38;5;28;01mif\u001b[39;00m func(user_c) \u001b[38;5;28;01melse\u001b[39;00m default_c \u001b[38;5;28;01mfor\u001b[39;00m default_c, user_c \u001b[38;5;129;01min\u001b[39;00m \u001b[38;5;28mzip\u001b[39m(default, user)\n\u001b[1;32m    279\u001b[0m )\n",
      "File \u001b[0;32m~/anaconda3/envs/medsam/lib/python3.11/site-packages/monai/utils/misc.py:202\u001b[0m, in \u001b[0;36mensure_tuple_rep\u001b[0;34m(tup, dim)\u001b[0m\n\u001b[1;32m    199\u001b[0m \u001b[38;5;28;01mif\u001b[39;00m \u001b[38;5;28mlen\u001b[39m(tup) \u001b[38;5;241m==\u001b[39m dim:\n\u001b[1;32m    200\u001b[0m     \u001b[38;5;28;01mreturn\u001b[39;00m \u001b[38;5;28mtuple\u001b[39m(tup)\n\u001b[0;32m--> 202\u001b[0m \u001b[38;5;28;01mraise\u001b[39;00m \u001b[38;5;167;01mValueError\u001b[39;00m(\u001b[38;5;124mf\u001b[39m\u001b[38;5;124m\"\u001b[39m\u001b[38;5;124mSequence must have length \u001b[39m\u001b[38;5;132;01m{\u001b[39;00mdim\u001b[38;5;132;01m}\u001b[39;00m\u001b[38;5;124m, got \u001b[39m\u001b[38;5;132;01m{\u001b[39;00m\u001b[38;5;28mlen\u001b[39m(tup)\u001b[38;5;132;01m}\u001b[39;00m\u001b[38;5;124m.\u001b[39m\u001b[38;5;124m\"\u001b[39m)\n",
      "\u001b[0;31mValueError\u001b[0m: Sequence must have length 1, got 2."
     ]
    }
   ],
   "source": [
    "from monai.transforms import CenterSpatialCropd\n",
    "d = CenterSpatialCropd(keys=[\"kspace_masked_ifft\", \"reconstruction_rss\"], roi_size=[162, 512])\n",
    "img = d(c)[\"kspace_masked_ifft\"]\n",
    "img.shape"
   ]
  },
  {
   "cell_type": "code",
   "execution_count": 9,
   "metadata": {},
   "outputs": [],
   "source": [
    "number = 0\n",
    "one_img = []\n",
    "for case in Path(\"/homes/syli/dataset/MultiCoil/test/kspace_full\").iterdir():\n",
    "    img_arr = nib.load(str(case)).get_fdata()\n",
    "    one_img.append(img_arr)\n",
    "    if number % 4 == 3:\n",
    "        one_img_arr = np.array(one_img)\n",
    "        img = nib.Nifti1Image(one_img_arr, affine=np.eye(4))\n",
    "        nib.save(img, f\"/homes/syli/dataset/MultiCoil/test/test_3d/{(number+1) // 4}.nii.gz\")\n",
    "        one_img = []\n",
    "    number += 1\n",
    "\n"
   ]
  },
  {
   "cell_type": "code",
   "execution_count": null,
   "metadata": {},
   "outputs": [],
   "source": []
  }
 ],
 "metadata": {
  "kernelspec": {
   "display_name": "medsam",
   "language": "python",
   "name": "python3"
  },
  "language_info": {
   "codemirror_mode": {
    "name": "ipython",
    "version": 3
   },
   "file_extension": ".py",
   "mimetype": "text/x-python",
   "name": "python",
   "nbconvert_exporter": "python",
   "pygments_lexer": "ipython3",
   "version": "3.11.5"
  }
 },
 "nbformat": 4,
 "nbformat_minor": 2
}
